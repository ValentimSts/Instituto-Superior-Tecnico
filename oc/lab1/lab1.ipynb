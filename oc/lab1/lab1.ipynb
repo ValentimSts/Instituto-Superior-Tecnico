{
 "cells": [
  {
   "cell_type": "markdown",
   "metadata": {},
   "source": [
    "# 2 Procedure\n",
    "\n",
    "## 2.1 Understanding the Program\n",
    "\n",
    "Without delving into the details of the signal processing application, analyze the flow of the C program. \\\n",
    "Observe the data access patterns and identify the critical sequence of accesses which may have a larger \\\n",
    "impact on the performance of the system.\n",
    "\n",
    "---\n",
    "\n",
    "O processamento dos Macroblocks."
   ]
  },
  {
   "cell_type": "markdown",
   "metadata": {},
   "source": [
    "# 2.3 Cache L1\n",
    "\n",
    "## 2.3.1 Theory of cache\n",
    "\n",
    "1. Explain the different types of cache misses: compulsory, capacity, and conflict.\n",
    "\n",
    "---"
   ]
  },
  {
   "cell_type": "markdown",
   "metadata": {},
   "source": [
    "**Compulsory:** no 1º acesso a um endereço da cache há miss e o bloco tem de ser copiado da memória para a cache; \\\n",
    "**Capacity:** a cache não tem capacidade para conter todos os blocos necessários à execução do programa (sendo os blocos descartados); \\\n",
    "**Conflict:** múltiplos endereços referenciam a mesma posição da cache."
   ]
  },
  {
   "cell_type": "markdown",
   "metadata": {},
   "source": [
    "2. Explain the different types of cache writing-policies.\n",
    "   \n",
    "---"
   ]
  },
  {
   "cell_type": "markdown",
   "metadata": {},
   "source": [
    "**Write-back:** só quando os valores da cache são substituídos é que são atualizados na memória principal; \\\n",
    "**Write-through:** quando um valor é alterado na cache (numa escrita), também é atualizado na memória principal. \\"
   ]
  },
  {
   "cell_type": "markdown",
   "metadata": {},
   "source": [
    "## 2.3.2 Cache L1: dimension and block size\n",
    "\n",
    "### a)\n",
    "Consider a memory hierarchy composed of a single cache memory (L1), which interconnects the SDRAM frame memory and the CPU. Considering the characteristics of the available memory devices (see Table 1), and the maximum total cost of the memory hierarchy, determine the maximumstorage space of cache L1.\n",
    "NOTES:\n",
    "- the size of any of the memory modules (frame buffer, any cache) must be an integer power of 2: L1_size = 2MAX;\n",
    "- do not forget to consider the cost of the 128 kByte frame memory.\n",
    "\n",
    "---\n",
    "\n",
    "**Frame-memory (SDRAM):**\n",
    "\n",
    "$128 \\hspace{1mm} KB = 128 \\times 2^{10} \\hspace{1mm} B = 128 \\times \\frac{2^{10}}{2^{20}} \\hspace{1mm} MB = 0.125 \\hspace{1mm} MB$\n",
    "\n",
    "$\\text{Frame-memory}_{price} = 0.125 \\times 0.01 = 0.00125 \\hspace{1mm} €$\n",
    "\n",
    "**L1 Cache:**\n",
    "\n",
    "$L1_{price} \\leq MAX_{price} - \\text{Frame-memory}_{price} \\leftrightarrow \\\\\n",
    "10 \\times L1_{size} \\leq 0.020 - 0.00125 \\leftrightarrow \\\\\n",
    "L1_{size} \\leq \\frac{0.01875}{10} \\leftrightarrow L1_{size} \\leq 0.001875 \\hspace{1mm} MB$\n",
    "\n",
    "$0.001875 \\hspace{1mm} MB = 0.001875 \\times 2^{20} = 1966.8 \\hspace{1mm} B$\n",
    "\n",
    "$2^{MAX} = 19660.8 \\leftrightarrow MAX = \\lfloor \\log_2(1966.8) \\rfloor = 10$\n",
    "\n",
    "**MAX = 10**"
   ]
  },
  {
   "cell_type": "markdown",
   "metadata": {},
   "source": [
    "### b)\n",
    "Consider three different dimensions for the L1 data cache: L1_size ∈ {$2^{MAX}$, $2^{MAX-1}$, $2^{MAX-2}$}. \\\n",
    "For each of these dimensions, and assuming a direct mapping configuration, use the dineroIV simulator to evaluate the resulting average data miss-rate considering the following block sizes: \\\n",
    "Block_size ∈ {8, 16, 32, 64}. \\\n",
    "Fill the following table with the obtained data:\n",
    "\n",
    "---"
   ]
  },
  {
   "cell_type": "code",
   "execution_count": 3,
   "metadata": {},
   "outputs": [
    {
     "data": {
      "text/html": [
       "<div>\n",
       "<style scoped>\n",
       "    .dataframe tbody tr th:only-of-type {\n",
       "        vertical-align: middle;\n",
       "    }\n",
       "\n",
       "    .dataframe tbody tr th {\n",
       "        vertical-align: top;\n",
       "    }\n",
       "\n",
       "    .dataframe thead th {\n",
       "        text-align: right;\n",
       "    }\n",
       "</style>\n",
       "<table border=\"1\" class=\"dataframe\">\n",
       "  <thead>\n",
       "    <tr style=\"text-align: right;\">\n",
       "      <th></th>\n",
       "      <th></th>\n",
       "      <th>L1_config_1</th>\n",
       "    </tr>\n",
       "  </thead>\n",
       "  <tbody>\n",
       "    <tr>\n",
       "      <th>0</th>\n",
       "      <td>Cache size:</td>\n",
       "      <td>1024 Bytes</td>\n",
       "    </tr>\n",
       "    <tr>\n",
       "      <th>1</th>\n",
       "      <td>Block size:</td>\n",
       "      <td>8 Bytes</td>\n",
       "    </tr>\n",
       "    <tr>\n",
       "      <th>2</th>\n",
       "      <td>Miss-rate:</td>\n",
       "      <td>0.0305</td>\n",
       "    </tr>\n",
       "    <tr>\n",
       "      <th>3</th>\n",
       "      <td>Cost = Price x Miss-rate:</td>\n",
       "      <td>0.000298</td>\n",
       "    </tr>\n",
       "  </tbody>\n",
       "</table>\n",
       "</div>"
      ],
      "text/plain": [
       "                             L1_config_1\n",
       "0                Cache size:  1024 Bytes\n",
       "1                Block size:     8 Bytes\n",
       "2                 Miss-rate:      0.0305\n",
       "3  Cost = Price x Miss-rate:    0.000298"
      ]
     },
     "metadata": {},
     "output_type": "display_data"
    },
    {
     "data": {
      "text/html": [
       "<div>\n",
       "<style scoped>\n",
       "    .dataframe tbody tr th:only-of-type {\n",
       "        vertical-align: middle;\n",
       "    }\n",
       "\n",
       "    .dataframe tbody tr th {\n",
       "        vertical-align: top;\n",
       "    }\n",
       "\n",
       "    .dataframe thead th {\n",
       "        text-align: right;\n",
       "    }\n",
       "</style>\n",
       "<table border=\"1\" class=\"dataframe\">\n",
       "  <thead>\n",
       "    <tr style=\"text-align: right;\">\n",
       "      <th></th>\n",
       "      <th></th>\n",
       "      <th>L1_config_2</th>\n",
       "    </tr>\n",
       "  </thead>\n",
       "  <tbody>\n",
       "    <tr>\n",
       "      <th>0</th>\n",
       "      <td>Cache size:</td>\n",
       "      <td>1024 Bytes</td>\n",
       "    </tr>\n",
       "    <tr>\n",
       "      <th>1</th>\n",
       "      <td>Block size:</td>\n",
       "      <td>16 Bytes</td>\n",
       "    </tr>\n",
       "    <tr>\n",
       "      <th>2</th>\n",
       "      <td>Miss-rate:</td>\n",
       "      <td>0.0363</td>\n",
       "    </tr>\n",
       "    <tr>\n",
       "      <th>3</th>\n",
       "      <td>Cost = Price x Miss-rate:</td>\n",
       "      <td>0.000354</td>\n",
       "    </tr>\n",
       "  </tbody>\n",
       "</table>\n",
       "</div>"
      ],
      "text/plain": [
       "                             L1_config_2\n",
       "0                Cache size:  1024 Bytes\n",
       "1                Block size:    16 Bytes\n",
       "2                 Miss-rate:      0.0363\n",
       "3  Cost = Price x Miss-rate:    0.000354"
      ]
     },
     "metadata": {},
     "output_type": "display_data"
    }
   ],
   "source": [
    "import pandas as pd \n",
    "\n",
    "data_1 = {\"\": [\"Cache size:\", \"Block size:\", \"Miss-rate:\", \"Cost = Price x Miss-rate:\"],\n",
    "          \"L1_config_1\": [\"1024 Bytes\", \"8 Bytes\", 0.0305, 0.00029785]}\n",
    "\n",
    "data_2 = {\"\": [\"Cache size:\", \"Block size:\", \"Miss-rate:\", \"Cost = Price x Miss-rate:\"],\n",
    "          \"L1_config_2\": [\"1024 Bytes\", \"16 Bytes\", 0.0363, 0.00035449]}\n",
    "\n",
    "# 1024 B = 0.00097656 MB\n",
    "# Price = L1_size * price_per_MB = 0.00097656 * 10 = 0.0097656\n",
    "\n",
    "df_1 = pd.DataFrame(data_1)\n",
    "df_2 = pd.DataFrame(data_2)\n",
    "\n",
    "display(df_1)\n",
    "display(df_2)"
   ]
  },
  {
   "cell_type": "markdown",
   "metadata": {},
   "source": [
    "### c)\n",
    "For each L1 cache size, plot the variation of the miss-rate with the size of the block.\n",
    "\n",
    "---"
   ]
  },
  {
   "cell_type": "code",
   "execution_count": 1,
   "metadata": {},
   "outputs": [
    {
     "data": {
      "text/html": [
       "<div>\n",
       "<style scoped>\n",
       "    .dataframe tbody tr th:only-of-type {\n",
       "        vertical-align: middle;\n",
       "    }\n",
       "\n",
       "    .dataframe tbody tr th {\n",
       "        vertical-align: top;\n",
       "    }\n",
       "\n",
       "    .dataframe thead th {\n",
       "        text-align: right;\n",
       "    }\n",
       "</style>\n",
       "<table border=\"1\" class=\"dataframe\">\n",
       "  <thead>\n",
       "    <tr style=\"text-align: right;\">\n",
       "      <th></th>\n",
       "      <th>L1_size = 1024 B</th>\n",
       "      <th>L1_size = 512 B</th>\n",
       "      <th>L1_size = 256 B</th>\n",
       "    </tr>\n",
       "  </thead>\n",
       "  <tbody>\n",
       "    <tr>\n",
       "      <th>Block size = 8 Bytes</th>\n",
       "      <td>0.0305</td>\n",
       "      <td>0.1247</td>\n",
       "      <td>0.1962</td>\n",
       "    </tr>\n",
       "    <tr>\n",
       "      <th>Block size = 16 Bytes</th>\n",
       "      <td>0.0363</td>\n",
       "      <td>0.1184</td>\n",
       "      <td>0.1829</td>\n",
       "    </tr>\n",
       "    <tr>\n",
       "      <th>Block size = 32 Bytes</th>\n",
       "      <td>0.0770</td>\n",
       "      <td>0.1492</td>\n",
       "      <td>0.2288</td>\n",
       "    </tr>\n",
       "    <tr>\n",
       "      <th>Block size = 64 Bytes</th>\n",
       "      <td>0.1181</td>\n",
       "      <td>0.2021</td>\n",
       "      <td>0.3340</td>\n",
       "    </tr>\n",
       "  </tbody>\n",
       "</table>\n",
       "</div>"
      ],
      "text/plain": [
       "                       L1_size = 1024 B  L1_size = 512 B  L1_size = 256 B\n",
       "Block size = 8 Bytes             0.0305           0.1247           0.1962\n",
       "Block size = 16 Bytes            0.0363           0.1184           0.1829\n",
       "Block size = 32 Bytes            0.0770           0.1492           0.2288\n",
       "Block size = 64 Bytes            0.1181           0.2021           0.3340"
      ]
     },
     "metadata": {},
     "output_type": "display_data"
    }
   ],
   "source": [
    "import pandas as pd\n",
    "\n",
    "l1_sizes = {\"L1_size = 1024 B\": [0.0305, 0.0363, 0.0770, 0.1181],\n",
    "            \"L1_size = 512 B\": [0.1247, 0.1184, 0.1492, 0.2021],\n",
    "            \"L1_size = 256 B\": [0.1962, 0.1829, 0.2288, 0.3340]}\n",
    "\n",
    "df = pd.DataFrame(l1_sizes, index = [\"Block size = 8 Bytes\", \"Block size = 16 Bytes\", \"Block size = 32 Bytes\", \"Block size = 64 Bytes\"])\n",
    "\n",
    "display(df)"
   ]
  },
  {
   "cell_type": "markdown",
   "metadata": {},
   "source": [
    "### d)\n",
    "By considering the obtained results, select two L1 cache configurations (dimension and block size) that offer the best trade-off between the cost of the device and the resulting average miss-rate. \\\n",
    "Label in the previous plot the two configurations chosen.\n",
    "\n",
    "---"
   ]
  },
  {
   "cell_type": "code",
   "execution_count": 7,
   "metadata": {},
   "outputs": [
    {
     "data": {
      "text/plain": [
       "Text(0, 0.5, 'Miss-Rate (%)')"
      ]
     },
     "execution_count": 7,
     "metadata": {},
     "output_type": "execute_result"
    },
    {
     "data": {
      "image/png": "[encoded data removed]",
      "text/plain": [
       "<Figure size 640x480 with 1 Axes>"
      ]
     },
     "metadata": {},
     "output_type": "display_data"
    }
   ],
   "source": [
    "import pandas as pd\n",
    "import matplotlib.pyplot as plt\n",
    "\n",
    "l1_sizes = {\"L1_size = 1024 B\": [3.05, 3.63, 7.70, 11.81],\n",
    "            \"L1_size = 512 B\": [12.47, 11.84, 14.92, 20.21],\n",
    "            \"L1_size = 256 B\": [19.62, 18.29, 22.88, 33.40]}\n",
    "\n",
    "df = pd.DataFrame(l1_sizes, index = [8, 16, 32, 64])\n",
    "\n",
    "df.plot()\n",
    "plt.xlabel(\"Block size (Bytes)\")\n",
    "plt.ylabel(\"Miss-Rate (%)\")"
   ]
  },
  {
   "cell_type": "markdown",
   "metadata": {},
   "source": [
    "## 2.3.3 Cache L1: set associativity\n",
    "\n",
    "### a)\n",
    "For each of the two L1 cache setups previously selected, evaluate the compulsory, capacity, conflict and total miss-rates when the following configurations are considered: set associativity of 1 (direct-mapped), 2, 4, 8.\n",
    "Fill the following table with the obtained data:\n",
    "\n",
    "---"
   ]
  },
  {
   "cell_type": "code",
   "execution_count": 5,
   "metadata": {},
   "outputs": [
    {
     "data": {
      "text/html": [
       "<div>\n",
       "<style scoped>\n",
       "    .dataframe tbody tr th:only-of-type {\n",
       "        vertical-align: middle;\n",
       "    }\n",
       "\n",
       "    .dataframe tbody tr th {\n",
       "        vertical-align: top;\n",
       "    }\n",
       "\n",
       "    .dataframe thead th {\n",
       "        text-align: right;\n",
       "    }\n",
       "</style>\n",
       "<table border=\"1\" class=\"dataframe\">\n",
       "  <thead>\n",
       "    <tr style=\"text-align: right;\">\n",
       "      <th></th>\n",
       "      <th>1-way</th>\n",
       "      <th>2-ways</th>\n",
       "      <th>4-ways</th>\n",
       "      <th>8-ways</th>\n",
       "    </tr>\n",
       "  </thead>\n",
       "  <tbody>\n",
       "    <tr>\n",
       "      <th>compulsory</th>\n",
       "      <td>0.0254</td>\n",
       "      <td>0.0216</td>\n",
       "      <td>0.2859</td>\n",
       "      <td>0.2876</td>\n",
       "    </tr>\n",
       "    <tr>\n",
       "      <th>capacity</th>\n",
       "      <td>0.0561</td>\n",
       "      <td>0.0488</td>\n",
       "      <td>0.7059</td>\n",
       "      <td>0.7080</td>\n",
       "    </tr>\n",
       "    <tr>\n",
       "      <th>conflict</th>\n",
       "      <td>0.9186</td>\n",
       "      <td>0.9295</td>\n",
       "      <td>0.0082</td>\n",
       "      <td>0.0044</td>\n",
       "    </tr>\n",
       "    <tr>\n",
       "      <th>total</th>\n",
       "      <td>0.0305</td>\n",
       "      <td>0.0357</td>\n",
       "      <td>0.0027</td>\n",
       "      <td>0.0027</td>\n",
       "    </tr>\n",
       "  </tbody>\n",
       "</table>\n",
       "</div>"
      ],
      "text/plain": [
       "             1-way  2-ways  4-ways  8-ways\n",
       "compulsory  0.0254  0.0216  0.2859  0.2876\n",
       "capacity    0.0561  0.0488  0.7059  0.7080\n",
       "conflict    0.9186  0.9295  0.0082  0.0044\n",
       "total       0.0305  0.0357  0.0027  0.0027"
      ]
     },
     "metadata": {},
     "output_type": "display_data"
    },
    {
     "data": {
      "text/html": [
       "<div>\n",
       "<style scoped>\n",
       "    .dataframe tbody tr th:only-of-type {\n",
       "        vertical-align: middle;\n",
       "    }\n",
       "\n",
       "    .dataframe tbody tr th {\n",
       "        vertical-align: top;\n",
       "    }\n",
       "\n",
       "    .dataframe thead th {\n",
       "        text-align: right;\n",
       "    }\n",
       "</style>\n",
       "<table border=\"1\" class=\"dataframe\">\n",
       "  <thead>\n",
       "    <tr style=\"text-align: right;\">\n",
       "      <th></th>\n",
       "      <th>1-way</th>\n",
       "      <th>2-ways</th>\n",
       "      <th>4-ways</th>\n",
       "      <th>8-ways</th>\n",
       "    </tr>\n",
       "  </thead>\n",
       "  <tbody>\n",
       "    <tr>\n",
       "      <th>compulsory</th>\n",
       "      <td>0.0106</td>\n",
       "      <td>0.0106</td>\n",
       "      <td>0.2444</td>\n",
       "      <td>0.2413</td>\n",
       "    </tr>\n",
       "    <tr>\n",
       "      <th>capacity</th>\n",
       "      <td>0.0303</td>\n",
       "      <td>0.0329</td>\n",
       "      <td>0.7556</td>\n",
       "      <td>0.7587</td>\n",
       "    </tr>\n",
       "    <tr>\n",
       "      <th>conflict</th>\n",
       "      <td>0.9591</td>\n",
       "      <td>0.9565</td>\n",
       "      <td>0.0000</td>\n",
       "      <td>0.0000</td>\n",
       "    </tr>\n",
       "    <tr>\n",
       "      <th>total</th>\n",
       "      <td>0.0363</td>\n",
       "      <td>0.0364</td>\n",
       "      <td>0.0016</td>\n",
       "      <td>0.0016</td>\n",
       "    </tr>\n",
       "  </tbody>\n",
       "</table>\n",
       "</div>"
      ],
      "text/plain": [
       "             1-way  2-ways  4-ways  8-ways\n",
       "compulsory  0.0106  0.0106  0.2444  0.2413\n",
       "capacity    0.0303  0.0329  0.7556  0.7587\n",
       "conflict    0.9591  0.9565  0.0000  0.0000\n",
       "total       0.0363  0.0364  0.0016  0.0016"
      ]
     },
     "metadata": {},
     "output_type": "display_data"
    }
   ],
   "source": [
    "import pandas as pd\n",
    "\n",
    "L1_config_1 = {\"1-way\": [0.0254, 0.0561, 0.9186, 0.0305],\n",
    "               \"2-ways\": [0.0216, 0.0488, 0.9295, 0.0357],\n",
    "               \"4-ways\": [0.2859, 0.7059, 0.0082, 0.0027],\n",
    "               \"8-ways\": [0.2876, 0.7080, 0.0044, 0.0027]}\n",
    "\n",
    "L1_config_2 = {\"1-way\": [0.0106, 0.0303, 0.9591, 0.0363],\n",
    "               \"2-ways\": [0.0106, 0.0329, 0.9565, 0.0364],\n",
    "               \"4-ways\": [0.2444, 0.7556, 0, 0.0016],\n",
    "               \"8-ways\": [0.2413, 0.7587, 0, 0.0016]}\n",
    "\n",
    "df_1 = pd.DataFrame(L1_config_1, index = [\"compulsory\", \"capacity\", \"conflict\", \"total\"])\n",
    "df_2 = pd.DataFrame(L1_config_2, index = [\"compulsory\", \"capacity\", \"conflict\", \"total\"])\n",
    "\n",
    "\n",
    "display(df_1)\n",
    "display(df_2)"
   ]
  },
  {
   "cell_type": "markdown",
   "metadata": {},
   "source": [
    "### b)\n",
    "For each L1 cache setup, draw a plot with the variation of the obtained compulsory, capacity, conflict and total miss-rates for the considered set associativity ways.\n",
    "\n",
    "---"
   ]
  },
  {
   "cell_type": "code",
   "execution_count": 6,
   "metadata": {},
   "outputs": [
    {
     "data": {
      "text/plain": [
       "Text(0, 0.5, 'miss-rate (%)')"
      ]
     },
     "execution_count": 6,
     "metadata": {},
     "output_type": "execute_result"
    },
    {
     "data": {
      "image/png": "[encoded data removed]",
      "text/plain": [
       "<Figure size 640x480 with 1 Axes>"
      ]
     },
     "metadata": {},
     "output_type": "display_data"
    },
    {
     "data": {
      "image/png": "[encoded data removed]",
      "text/plain": [
       "<Figure size 640x480 with 1 Axes>"
      ]
     },
     "metadata": {},
     "output_type": "display_data"
    }
   ],
   "source": [
    "import pandas as pd\n",
    "import matplotlib.pyplot as plt\n",
    "\n",
    "L1_config_1 = {\"compulsory\": [2.54, 2.16, 28.59, 28.76],\n",
    "               \"capacity\": [5.61, 4.88, 70.59, 70.80],\n",
    "               \"conflict\": [91.86, 92.95, 0.82, 0.44],\n",
    "               \"total\": [3.05, 3.57, 0.27, 0.27]}\n",
    "\n",
    "L1_config_2 = {\"compulsory\": [1.06\t, 1.06, 24.44, 24.13],\n",
    "               \"capacity\": [3.03, 3.29, 75.56, 75.87],\n",
    "               \"conflict\": [95.91, 95.65, 0, 0],\n",
    "               \"total\": [3.63, 3.64, 0.16, 0.16]}\n",
    "\n",
    "\n",
    "df_1 = pd.DataFrame(L1_config_1, index = [\"1-way\", \"2-ways\", \"4-ways\", \"8-ways\"])\n",
    "df_2 = pd.DataFrame(L1_config_2, index = [\"1-way\", \"2-ways\", \"4-ways\", \"8-ways\"])\n",
    "\n",
    "df_1.plot()\n",
    "plt.title(\"L1_config_1\")\n",
    "plt.xlabel(\"#ways\")\n",
    "plt.ylabel(\"miss-rate (%)\")\n",
    "\n",
    "df_2.plot()\n",
    "plt.title(\"L1_config_2\")\n",
    "plt.xlabel(\"#ways\")\n",
    "plt.ylabel(\"miss-rate (%)\")"
   ]
  },
  {
   "cell_type": "markdown",
   "metadata": {},
   "source": [
    "### c)\n",
    "Comment the results above.\n",
    "\n",
    "---\n",
    "\n",
    "Da análise dos gráficos acima, podemos notar que, com o aumento de vias de associatividade:\n",
    "- o rate de conflict misses diminui radicalmente, ao ponto de chegar a 0 a partir de 4 vias, algo esperado visto que cada set da cache passa a ser composto por mais posições, e daí mais espaço para guardar palavras que inicialmente ficariam na mesma posição;\n",
    "- o rate de capacity misses aumenta bastante, o que se deve ao facto da cache estar dividida em menos sets (menos conflicts), tendo por isso maior tendência a encher;\n",
    "- o rate de compulsory misses aumenta, pois havendo mais vias por entrada, no arranque da cache, o processador irá aceder a mais espaços vazios (originando portanto mais misses);\n",
    "- a partir de 4 vias de associatividade deixa de se notar alguma diferença significante no miss-rate.\n",
    "\n",
    "Analisando o miss rate total, concluimos que o aumento de vias de associatividade leva a uma diminuição no miss-rate."
   ]
  },
  {
   "cell_type": "markdown",
   "metadata": {},
   "source": [
    "### d)\n",
    "Write the expression that provides the mean access time as a function of the L1 cache hit $(p^{L1}_H)$ and miss $(p^{L1}_M)$ rates, the L1 cache hit $(t^{L1}_H)$ and miss $(t^{L1}_M)$ access times, and the time penalty associated to each associativity level, as expressed in Table 1. Consider a non-blocking critical word-first load policy, where the bus occupancy rate has a lower impact in the performance of the cache.\n",
    "\n",
    "---\n",
    "\n",
    "$Miss_{penalty} \\rightarrow \\text{tempo de ir à memória principal} = 140 ns $\n",
    "\n",
    "$AMAT = Hit_{rate} \\times Hit_{time} + Miss_{rate} \\times Miss_{time} \\leftrightarrow \\\\\n",
    "AMAT = (p^{L1}_H) \\times (t^{L1}_H) + (p^{L1}_M) \\times (t^{L1}_M) \\leftrightarrow \\\\\n",
    "AMAT = (t^{L1}_H) + (p^{L1}_M) \\times Miss_{penalty}FM \\leftrightarrow \\\\\n",
    "AMAT = (t^{L1}_H) + (p^{L1}_M) \\times 140 \\leftrightarrow \\\\\n",
    "AMAT = 2 \\times [0.7 + 0.35 \\times \\log_2 (\\#ways)] + (p^{L1}_M) \\times 140 $"
   ]
  },
  {
   "cell_type": "markdown",
   "metadata": {},
   "source": [
    "### e)\n",
    "Evaluate the mean access time of each configuration, considering the obtained miss-rates and the time penalty associated to each associativity level. Evaluate the resulting cost function, as defined in Eq. 1 (including the frame memory).\n",
    "Fill the following table with the obtained data:\n",
    "\n",
    "---"
   ]
  },
  {
   "cell_type": "code",
   "execution_count": 2,
   "metadata": {},
   "outputs": [
    {
     "data": {
      "text/html": [
       "<div>\n",
       "<style scoped>\n",
       "    .dataframe tbody tr th:only-of-type {\n",
       "        vertical-align: middle;\n",
       "    }\n",
       "\n",
       "    .dataframe tbody tr th {\n",
       "        vertical-align: top;\n",
       "    }\n",
       "\n",
       "    .dataframe thead th {\n",
       "        text-align: right;\n",
       "    }\n",
       "</style>\n",
       "<table border=\"1\" class=\"dataframe\">\n",
       "  <thead>\n",
       "    <tr style=\"text-align: right;\">\n",
       "      <th></th>\n",
       "      <th>1-way</th>\n",
       "      <th>2-ways</th>\n",
       "      <th>4-ways</th>\n",
       "      <th>8-ways</th>\n",
       "    </tr>\n",
       "  </thead>\n",
       "  <tbody>\n",
       "    <tr>\n",
       "      <th>Miss-Rate</th>\n",
       "      <td>0.030500</td>\n",
       "      <td>0.035700</td>\n",
       "      <td>0.002700</td>\n",
       "      <td>0.002700</td>\n",
       "    </tr>\n",
       "    <tr>\n",
       "      <th>Access Time</th>\n",
       "      <td>5.670000</td>\n",
       "      <td>7.098000</td>\n",
       "      <td>3.178000</td>\n",
       "      <td>3.878000</td>\n",
       "    </tr>\n",
       "    <tr>\n",
       "      <th>Price</th>\n",
       "      <td>0.011016</td>\n",
       "      <td>0.011016</td>\n",
       "      <td>0.011016</td>\n",
       "      <td>0.011016</td>\n",
       "    </tr>\n",
       "    <tr>\n",
       "      <th>Cost Function</th>\n",
       "      <td>0.062460</td>\n",
       "      <td>0.078190</td>\n",
       "      <td>0.035010</td>\n",
       "      <td>0.042720</td>\n",
       "    </tr>\n",
       "  </tbody>\n",
       "</table>\n",
       "</div>"
      ],
      "text/plain": [
       "                  1-way    2-ways    4-ways    8-ways\n",
       "Miss-Rate      0.030500  0.035700  0.002700  0.002700\n",
       "Access Time    5.670000  7.098000  3.178000  3.878000\n",
       "Price          0.011016  0.011016  0.011016  0.011016\n",
       "Cost Function  0.062460  0.078190  0.035010  0.042720"
      ]
     },
     "metadata": {},
     "output_type": "display_data"
    },
    {
     "data": {
      "text/html": [
       "<div>\n",
       "<style scoped>\n",
       "    .dataframe tbody tr th:only-of-type {\n",
       "        vertical-align: middle;\n",
       "    }\n",
       "\n",
       "    .dataframe tbody tr th {\n",
       "        vertical-align: top;\n",
       "    }\n",
       "\n",
       "    .dataframe thead th {\n",
       "        text-align: right;\n",
       "    }\n",
       "</style>\n",
       "<table border=\"1\" class=\"dataframe\">\n",
       "  <thead>\n",
       "    <tr style=\"text-align: right;\">\n",
       "      <th></th>\n",
       "      <th>1-way</th>\n",
       "      <th>2-ways</th>\n",
       "      <th>4-ways</th>\n",
       "      <th>8-ways</th>\n",
       "    </tr>\n",
       "  </thead>\n",
       "  <tbody>\n",
       "    <tr>\n",
       "      <th>Miss-Rate</th>\n",
       "      <td>0.036300</td>\n",
       "      <td>0.036400</td>\n",
       "      <td>0.001600</td>\n",
       "      <td>0.001600</td>\n",
       "    </tr>\n",
       "    <tr>\n",
       "      <th>Access Time</th>\n",
       "      <td>6.482000</td>\n",
       "      <td>7.196000</td>\n",
       "      <td>3.024000</td>\n",
       "      <td>3.724000</td>\n",
       "    </tr>\n",
       "    <tr>\n",
       "      <th>Price</th>\n",
       "      <td>0.011016</td>\n",
       "      <td>0.011016</td>\n",
       "      <td>0.011016</td>\n",
       "      <td>0.011016</td>\n",
       "    </tr>\n",
       "    <tr>\n",
       "      <th>Cost Function</th>\n",
       "      <td>0.071400</td>\n",
       "      <td>0.079270</td>\n",
       "      <td>0.033310</td>\n",
       "      <td>0.041020</td>\n",
       "    </tr>\n",
       "  </tbody>\n",
       "</table>\n",
       "</div>"
      ],
      "text/plain": [
       "                  1-way    2-ways    4-ways    8-ways\n",
       "Miss-Rate      0.036300  0.036400  0.001600  0.001600\n",
       "Access Time    6.482000  7.196000  3.024000  3.724000\n",
       "Price          0.011016  0.011016  0.011016  0.011016\n",
       "Cost Function  0.071400  0.079270  0.033310  0.041020"
      ]
     },
     "metadata": {},
     "output_type": "display_data"
    }
   ],
   "source": [
    "import pandas as pd\n",
    "\n",
    "# L1_price  = 0.0097656\n",
    "# L1_price + SDRAM_price = 0.0097656 + [(128 * 0.00097656) * 0.01] = 0.0097656 + 0.00125 = 0.0110156\n",
    "\n",
    "L1_config_1 = {\"1-way\": [0.0305, 5.670, 0.0110156, 0.06246],\n",
    "               \"2-ways\": [0.0357, 7.098, 0.0110156, 0.07819],\n",
    "               \"4-ways\": [0.0027, 3.178, 0.0110156, 0.03501],\n",
    "               \"8-ways\": [0.0027, 3.878, 0.0110156, 0.04272]}\n",
    "\n",
    "L1_config_2 = {\"1-way\": [0.0363, 6.482, 0.0110156, 0.07140],\n",
    "               \"2-ways\": [0.0364, 7.196, 0.0110156, 0.07927],\n",
    "               \"4-ways\": [0.0016, 3.024, 0.0110156, 0.03331],\n",
    "               \"8-ways\": [0.0016, 3.724, 0.0110156, 0.04102]}\n",
    "               \n",
    "\n",
    "df_1 = pd.DataFrame(L1_config_1, index = [\"Miss-Rate\", \"Access Time\", \"Price\", \"Cost Function\"])\n",
    "df_2 = pd.DataFrame(L1_config_2, index = [\"Miss-Rate\", \"Access Time\", \"Price\", \"Cost Function\"])\n",
    "\n",
    "display(df_1)\n",
    "display(df_2)"
   ]
  },
  {
   "cell_type": "markdown",
   "metadata": {},
   "source": [
    "### f)\n",
    "Draw conclusions.\n",
    "\n",
    "---\n",
    "\n",
    "Podemos concluir que a configuração ideal para a cache L1 será a segunda (L1_config_2) com quatro vias de associatividade, pois é esta que apresenta a menor cost function, tendo por isso uma melhor relação custo-performance, para além de um miss-rate bastante baixo.\n",
    "Por outro lado, a pior configuração é também a segunda mas com duas vias de associatividade, visto que apresenta o miss-rate mais elevado e consequentemente uma maior cost function."
   ]
  },
  {
   "cell_type": "markdown",
   "metadata": {},
   "source": [
    "## 2.3.4 Cache L1: write policy\n",
    "\n",
    "### a)\n",
    "By analyzing the sequence of memory accesses generated by the motion estimation algorithm (see Fig. 3), select the best setup for the cache writing-policy: write-back versus write-through, write allocate versus write-not-allocate. Justify. (Note that the number of writes is much smaller than the number of reads.)\n",
    "\n",
    "---\n",
    "\n",
    "Feita a análise, tanto do algoritmo de \"motion estimation\", como dos acessos à memória, podemos reparar que o número de writes é substancialmente menor do que o número de reads (114048 writes e 12190848 reads), e consequentemente, o número de write-misses torna-se bastante insignificante (7128 misses).\\\n",
    "Com esta informação, é possível concluir que uma política write-through é a mais indicada, pois, sendo o número de writes tão pequeno, é mais vantajoso manter as palavras em cache e em memória atualizadas, do que apenas atualizar as palavras em memória quando estas saem da cache (write-back), correndo o risco de escrever em memória um bloco inteiro, quando apenas uma parte muito pequena do mesmo foi alterada.\\\n",
    "Para além disso, analizando o número de write-misses torna-se claro que devemos optar por uma política write-not-allocate, pois não se justifica alocar espaço para palavras na cache quando o número de write-misses é tão mínimo, escrevendo-se, então, diretamente em memória. \n"
   ]
  },
  {
   "cell_type": "markdown",
   "metadata": {},
   "source": [
    "## 2.3.5 Cache L1: final selection\n",
    "\n",
    "### a)\n",
    "By considering the obtained results, select the L1 cache setup that offers the best compromise between the cost of the device and the resulting average access time.\n",
    "\n",
    "---"
   ]
  },
  {
   "cell_type": "code",
   "execution_count": 1,
   "metadata": {},
   "outputs": [
    {
     "data": {
      "text/html": [
       "<div>\n",
       "<style scoped>\n",
       "    .dataframe tbody tr th:only-of-type {\n",
       "        vertical-align: middle;\n",
       "    }\n",
       "\n",
       "    .dataframe tbody tr th {\n",
       "        vertical-align: top;\n",
       "    }\n",
       "\n",
       "    .dataframe thead th {\n",
       "        text-align: right;\n",
       "    }\n",
       "</style>\n",
       "<table border=\"1\" class=\"dataframe\">\n",
       "  <thead>\n",
       "    <tr style=\"text-align: right;\">\n",
       "      <th></th>\n",
       "      <th>L1_config</th>\n",
       "    </tr>\n",
       "  </thead>\n",
       "  <tbody>\n",
       "    <tr>\n",
       "      <th>Cache dimension:</th>\n",
       "      <td>1024 Bytes</td>\n",
       "    </tr>\n",
       "    <tr>\n",
       "      <th>Block size:</th>\n",
       "      <td>16 Bytes</td>\n",
       "    </tr>\n",
       "    <tr>\n",
       "      <th>Associativity:</th>\n",
       "      <td>4-ways</td>\n",
       "    </tr>\n",
       "    <tr>\n",
       "      <th>Write-policy:</th>\n",
       "      <td>write-through / write-not-allocate</td>\n",
       "    </tr>\n",
       "    <tr>\n",
       "      <th>Miss-Rate:</th>\n",
       "      <td>0.0016</td>\n",
       "    </tr>\n",
       "    <tr>\n",
       "      <th>Access time:</th>\n",
       "      <td>3.024</td>\n",
       "    </tr>\n",
       "    <tr>\n",
       "      <th>Price:</th>\n",
       "      <td>0.011016</td>\n",
       "    </tr>\n",
       "    <tr>\n",
       "      <th>Cost Function:</th>\n",
       "      <td>0.03331</td>\n",
       "    </tr>\n",
       "  </tbody>\n",
       "</table>\n",
       "</div>"
      ],
      "text/plain": [
       "                                           L1_config\n",
       "Cache dimension:                          1024 Bytes\n",
       "Block size:                                 16 Bytes\n",
       "Associativity:                                4-ways\n",
       "Write-policy:     write-through / write-not-allocate\n",
       "Miss-Rate:                                    0.0016\n",
       "Access time:                                   3.024\n",
       "Price:                                      0.011016\n",
       "Cost Function:                               0.03331"
      ]
     },
     "metadata": {},
     "output_type": "display_data"
    }
   ],
   "source": [
    "import pandas as pd\n",
    "\n",
    "# L1_price  = 0.0097656\n",
    "# L1_price + SDRAM_price = 0.0097656 + [(128 * 0.00097656) * 0.01] = 0.0097656 + 0.0012499968 = 0.0110156\n",
    "\n",
    "L1_config = {\"L1_config\": [\"1024 Bytes\", \"16 Bytes\", \"4-ways\", \"write-through / write-not-allocate\", 0.00160, 3.0240, 0.0110156, 0.033310]}\n",
    "\n",
    "df = pd.DataFrame(L1_config, index = [\"Cache dimension:\", \"Block size:\", \"Associativity:\", \"Write-policy:\", \"Miss-Rate:\", \"Access time:\", \"Price:\", \"Cost Function:\"])\n",
    "\n",
    "display(df)"
   ]
  },
  {
   "cell_type": "markdown",
   "metadata": {},
   "source": [
    "# 2.4 Cache L2\n",
    "Consider now that the obtained SRAM on-chip L1 cache is connected to a SRAM off-chip L2 cache in order to obtain a memory hierarchy composed of two caches (L1+L2), which interconnect the SDRAM frame memory and the CPU. After specifying the L1 cache we continue the design evaluating and specifying a L2 cache. (The real design process would be more complex since it would require the evaluation of several combinations of L1 and L2 caches).\n",
    "\n",
    "## 2.4.1  Cache L2: dimension\n",
    "\n",
    "### a)\n",
    "Considering the maximum cost of the whole memory hierarchy, as well as the price of L1 cache\n",
    "and the 128 kByte frame memory, determine the maximum storage space of L2 cache (an integer\n",
    "power of 2), considering the characteristics of the available memory devices (see Table 1).\n",
    "\n",
    "---\n",
    "\n",
    "$Price_{L2} = \\text{Total Price} - (Price_{L1} + Price_{FM}) \\leftrightarrow \\\\\n",
    "Price_{L2} = 0.020 - (0.0097656 + 0.00125) \\leftrightarrow \\\\\n",
    "Price_{L2} = 0.00898$\n",
    "\n",
    "$Memory_{L2} = \\frac{Price_{L2}}{Price_{MB}L2} \\leftrightarrow \\\\\n",
    "Memory_{L2} = \\frac{0.00898}{0.4} \\leftrightarrow \\\\\n",
    "Memory_{L2} = 0.02245 \\hspace{1mm} MB$\n",
    "\n",
    "$0.02245 \\hspace{1mm} MB = 0.02245 \\times 2^{20} \\hspace{1mm} B = 23540.5312 \\hspace{1mm} B$\n",
    "\n",
    "$2^{MAX} = 23540.5312 \\leftrightarrow MAX = \\lfloor \\log_{2}(23540.5312) \\rfloor = 14$\n",
    "\n",
    "Logo, a capacidade máxima da memória de L2 será: $2^{14} \\hspace{1mm} Bytes = 2^4 \\times 2^{10} \\hspace{1mm} Bytes = 16 \\times 1024 \\hspace{1mm} Bytes = 16384 \\hspace{1mm} Bytes $."
   ]
  },
  {
   "cell_type": "markdown",
   "metadata": {},
   "source": [
    "### b)\n",
    "For the obtained maximum storage space for L2 cache, adopting a **direct mapping configuration**, use dineroIV simulator to evaluate the resulting average data miss-rate considering the following block sizes: \\\n",
    "(1 × L1_block), (2 × L1_block), (4 × L1_block) and (8 × L1_block). \\\n",
    "Fill the following table with the obtained data:\n",
    "\n",
    "---"
   ]
  },
  {
   "cell_type": "code",
   "execution_count": 4,
   "metadata": {},
   "outputs": [
    {
     "data": {
      "text/html": [
       "<div>\n",
       "<style scoped>\n",
       "    .dataframe tbody tr th:only-of-type {\n",
       "        vertical-align: middle;\n",
       "    }\n",
       "\n",
       "    .dataframe tbody tr th {\n",
       "        vertical-align: top;\n",
       "    }\n",
       "\n",
       "    .dataframe thead th {\n",
       "        text-align: right;\n",
       "    }\n",
       "</style>\n",
       "<table border=\"1\" class=\"dataframe\">\n",
       "  <thead>\n",
       "    <tr style=\"text-align: right;\">\n",
       "      <th></th>\n",
       "      <th>Block size</th>\n",
       "      <th>Miss-Rate</th>\n",
       "    </tr>\n",
       "  </thead>\n",
       "  <tbody>\n",
       "    <tr>\n",
       "      <th>Block Size = (1 x L1_Block)</th>\n",
       "      <td>16 Bytes</td>\n",
       "      <td>0.4773</td>\n",
       "    </tr>\n",
       "    <tr>\n",
       "      <th>Block Size = (2 x L1_Block)</th>\n",
       "      <td>32 Bytes</td>\n",
       "      <td>0.2386</td>\n",
       "    </tr>\n",
       "    <tr>\n",
       "      <th>Block Size = (4 x L1_Block)</th>\n",
       "      <td>64 Bytes</td>\n",
       "      <td>0.1193</td>\n",
       "    </tr>\n",
       "    <tr>\n",
       "      <th>Block Size = (8 x L1_Block)</th>\n",
       "      <td>128 Bytes</td>\n",
       "      <td>0.0598</td>\n",
       "    </tr>\n",
       "  </tbody>\n",
       "</table>\n",
       "</div>"
      ],
      "text/plain": [
       "                            Block size  Miss-Rate\n",
       "Block Size = (1 x L1_Block)   16 Bytes     0.4773\n",
       "Block Size = (2 x L1_Block)   32 Bytes     0.2386\n",
       "Block Size = (4 x L1_Block)   64 Bytes     0.1193\n",
       "Block Size = (8 x L1_Block)  128 Bytes     0.0598"
      ]
     },
     "metadata": {},
     "output_type": "display_data"
    }
   ],
   "source": [
    "import pandas as pd\n",
    "\n",
    "L2_config = {\"Block size\": [\"16 Bytes\", \"32 Bytes\", \"64 Bytes\", \"128 Bytes\"],\n",
    "             \"Miss-Rate\": [0.4773, 0.2386, 0.1193, 0.0598]}\n",
    "\n",
    "df = pd.DataFrame(L2_config, index = [\"Block Size = (1 x L1_Block)\", \"Block Size = (2 x L1_Block)\", \n",
    "                                      \"Block Size = (4 x L1_Block)\", \"Block Size = (8 x L1_Block)\"])\n",
    "\n",
    "display(df)"
   ]
  },
  {
   "cell_type": "markdown",
   "metadata": {},
   "source": [
    "### c)\n",
    "Plot the variation of the miss-rate with the size of the block.\n",
    "\n",
    "---"
   ]
  },
  {
   "cell_type": "code",
   "execution_count": 15,
   "metadata": {},
   "outputs": [
    {
     "data": {
      "text/plain": [
       "Text(0, 0.5, 'Miss-rate (%)')"
      ]
     },
     "execution_count": 15,
     "metadata": {},
     "output_type": "execute_result"
    },
    {
     "data": {
      "image/png": "[encoded data removed]",
      "text/plain": [
       "<Figure size 640x480 with 1 Axes>"
      ]
     },
     "metadata": {},
     "output_type": "display_data"
    }
   ],
   "source": [
    "import pandas as pd\n",
    "import matplotlib.pyplot as plt\n",
    "\n",
    "x = [16, 32, 64, 128]\n",
    "y = [47.73, 23.86, 11.93, 5.98]\n",
    "\n",
    "x_ticks = range(len(x))\n",
    "\n",
    "plt.plot(x_ticks, y, color = \"darkorange\")\n",
    "plt.xticks(x_ticks, x)\n",
    "\n",
    "plt.xlabel(\"Block size (Bytes)\")\n",
    "plt.ylabel(\"Miss-rate (%)\")\n"
   ]
  },
  {
   "cell_type": "markdown",
   "metadata": {},
   "source": [
    "### d)\n",
    "From the obtained results, select the block size that offers the best trade-off between the resulting average miss-rate and the time penalty associated with each data fetch from the primary memory. \\\n",
    "Justify.\n",
    "\n",
    "---\n",
    "\n",
    "**L2 Block Size:** 128 Bytes \\\n",
    "Como a miss-penalty não é afetada pela dimensão do bloco, faz sentido escolher o bloco com menor miss-rate, ou seja, o de 128 bytes."
   ]
  },
  {
   "cell_type": "markdown",
   "metadata": {},
   "source": [
    "## 2.4.2 Cache L2:\n",
    "\n",
    "### a)\n",
    "Evaluate the compulsory, capacity, conflict and total miss-rates for the direct-mapped L2 data cache.\\\n",
    "Fill the following table with the obtained data:\n",
    "\n",
    "---"
   ]
  },
  {
   "cell_type": "code",
   "execution_count": 7,
   "metadata": {},
   "outputs": [
    {
     "data": {
      "text/html": [
       "<div>\n",
       "<style scoped>\n",
       "    .dataframe tbody tr th:only-of-type {\n",
       "        vertical-align: middle;\n",
       "    }\n",
       "\n",
       "    .dataframe tbody tr th {\n",
       "        vertical-align: top;\n",
       "    }\n",
       "\n",
       "    .dataframe thead th {\n",
       "        text-align: right;\n",
       "    }\n",
       "</style>\n",
       "<table border=\"1\" class=\"dataframe\">\n",
       "  <thead>\n",
       "    <tr style=\"text-align: right;\">\n",
       "      <th></th>\n",
       "      <th>Miss-Rate</th>\n",
       "    </tr>\n",
       "  </thead>\n",
       "  <tbody>\n",
       "    <tr>\n",
       "      <th>Compulsory</th>\n",
       "      <td>0.37410</td>\n",
       "    </tr>\n",
       "    <tr>\n",
       "      <th>Capacity</th>\n",
       "      <td>0.62590</td>\n",
       "    </tr>\n",
       "    <tr>\n",
       "      <th>Conflict</th>\n",
       "      <td>0.00000</td>\n",
       "    </tr>\n",
       "    <tr>\n",
       "      <th>Total</th>\n",
       "      <td>0.05975</td>\n",
       "    </tr>\n",
       "  </tbody>\n",
       "</table>\n",
       "</div>"
      ],
      "text/plain": [
       "            Miss-Rate\n",
       "Compulsory    0.37410\n",
       "Capacity      0.62590\n",
       "Conflict      0.00000\n",
       "Total         0.05975"
      ]
     },
     "metadata": {},
     "output_type": "display_data"
    }
   ],
   "source": [
    "import pandas as pd\n",
    "\n",
    "# L2 fetches: 454065\n",
    "# compulsory misses: 594\n",
    "# capacity misses: 994\n",
    "# conflict misses: 0\n",
    "# total misses: 1588\n",
    "\n",
    "L2_config = {\"Miss-Rate\": [0.3741, 0.6259, 0, 0.05975]}\n",
    "\n",
    "df = pd.DataFrame(L2_config, index = [\"Compulsory\", \"Capacity\", \"Conflict\", \"Total\"])\n",
    "\n",
    "display(df)"
   ]
  },
  {
   "cell_type": "markdown",
   "metadata": {},
   "source": [
    "### b)\n",
    "Plot the variation of the obtained compulsory, capacity, conflict and total miss-rate.\n",
    "\n",
    "---"
   ]
  },
  {
   "cell_type": "code",
   "execution_count": 8,
   "metadata": {},
   "outputs": [
    {
     "data": {
      "text/plain": [
       "Text(0, 0.5, 'Miss-rate (%)')"
      ]
     },
     "execution_count": 8,
     "metadata": {},
     "output_type": "execute_result"
    },
    {
     "data": {
      "image/png": "[encoded data removed]",
      "text/plain": [
       "<Figure size 640x480 with 1 Axes>"
      ]
     },
     "metadata": {},
     "output_type": "display_data"
    }
   ],
   "source": [
    "import pandas as pd\n",
    "import matplotlib.pyplot as plt\n",
    "\n",
    "L2_config = {\"Compulsory\": 37.41, \"Capacity\": 62.59, \"Conflict\": 0, \"Total\": 5.975}\n",
    "\n",
    "x = list(L2_config.keys())\n",
    "y = list(L2_config.values())\n",
    "\n",
    "plt.bar(x, y, color = \"darkorange\")\n",
    "plt.ylabel(\"Miss-rate (%)\")"
   ]
  },
  {
   "cell_type": "markdown",
   "metadata": {},
   "source": [
    "### c)\n",
    "Write the expression which provides the mean access time as a function of the L1 and L2 cache hit $(p^{L1}_H, p^{L2}_H)$ and miss $(p^{L1}_M, p^{L2}_M)$ rates, L1 and L2 cache hit $(t^{L1}_H, t^{L2}_H)$ and miss $(t^{L1}_M, t^{L2}_M)$ access times, and the time penalty, as expressed in table 1.\n",
    "\n",
    "---\n",
    "\n",
    "$AMAT = (t^{L1}_H) + (p^{L1}_M) \\times Miss_{penalty}L1 \\leftrightarrow \\\\\n",
    "AMAT = (t^{L1}_H) + (p^{L1}_M) \\times [(t^{L2}_H) + (p^{L2}_M) \\times Miss_{penalty}L2] \\leftrightarrow \\\\\n",
    "AMAT = (t^{L1}_H) + (p^{L1}_M) \\times [(t^{L2}_H) + (p^{L2}_M) \\times 140] \\leftrightarrow \\\\\n",
    "AMAT = 2 \\times [0.7 + 0.35 \\times \\log_2 (\\#ways)] + (p^{L1}_M) \\times [10 \\times [0.7 + 0.55 \\times \\log_2 (\\#ways)] + (p^{L2}_M) \\times 140]$"
   ]
  },
  {
   "cell_type": "markdown",
   "metadata": {},
   "source": [
    "### d)\n",
    "Evaluate the mean access time provided by the chosen configuration, considering the obtained miss-rate and the time penalty. Evaluate the resulting cost function, as defined in Eq. 1. \\\n",
    "Fill the following table with the obtained data:\n",
    "\n",
    "---"
   ]
  },
  {
   "cell_type": "code",
   "execution_count": 3,
   "metadata": {},
   "outputs": [
    {
     "data": {
      "text/html": [
       "<div>\n",
       "<style scoped>\n",
       "    .dataframe tbody tr th:only-of-type {\n",
       "        vertical-align: middle;\n",
       "    }\n",
       "\n",
       "    .dataframe tbody tr th {\n",
       "        vertical-align: top;\n",
       "    }\n",
       "\n",
       "    .dataframe thead th {\n",
       "        text-align: right;\n",
       "    }\n",
       "</style>\n",
       "<table border=\"1\" class=\"dataframe\">\n",
       "  <thead>\n",
       "    <tr style=\"text-align: right;\">\n",
       "      <th></th>\n",
       "      <th></th>\n",
       "    </tr>\n",
       "  </thead>\n",
       "  <tbody>\n",
       "    <tr>\n",
       "      <th>Miss-Rate</th>\n",
       "      <td>0.05975</td>\n",
       "    </tr>\n",
       "    <tr>\n",
       "      <th>Access time</th>\n",
       "      <td>2.825 ns</td>\n",
       "    </tr>\n",
       "    <tr>\n",
       "      <th>Price</th>\n",
       "      <td>0.0172656</td>\n",
       "    </tr>\n",
       "    <tr>\n",
       "      <th>Cost Function</th>\n",
       "      <td>0.04878</td>\n",
       "    </tr>\n",
       "  </tbody>\n",
       "</table>\n",
       "</div>"
      ],
      "text/plain": [
       "                        \n",
       "Miss-Rate        0.05975\n",
       "Access time     2.825 ns\n",
       "Price          0.0172656\n",
       "Cost Function    0.04878"
      ]
     },
     "metadata": {},
     "output_type": "display_data"
    }
   ],
   "source": [
    "import pandas as pd\n",
    "\n",
    "# L2 price: (16 * 0.00097656) * 0.4 = 0.00625\n",
    "# L2 #ways = 1\n",
    "\n",
    "# Hierarchy_price = L1_price + L2_price + SDRAM_price = 0.0097656 + 0.00625 + 0.00125 = 0.0172656\n",
    "\n",
    "L2_config = {\"\": [0.05975, \"2.825 ns\", \"0.0172656\", 0.04878]}\n",
    "\n",
    "df = pd.DataFrame(L2_config, index = [\"Miss-Rate\", \"Access time\", \"Price\", \"Cost Function\"])\n",
    "\n",
    "display(df)"
   ]
  },
  {
   "cell_type": "markdown",
   "metadata": {},
   "source": [
    "## 2.5 Memory Hierarchy Configuration\n",
    "\n",
    "### a)\n",
    "By considering the obtained results, fill the following table with the selected characteristics for L1 and L2 cache memories, as well as the corresponding performance results of the overall memory hierarchy.\n",
    "\n",
    "---"
   ]
  },
  {
   "cell_type": "code",
   "execution_count": 1,
   "metadata": {},
   "outputs": [
    {
     "data": {
      "text/html": [
       "<div>\n",
       "<style scoped>\n",
       "    .dataframe tbody tr th:only-of-type {\n",
       "        vertical-align: middle;\n",
       "    }\n",
       "\n",
       "    .dataframe tbody tr th {\n",
       "        vertical-align: top;\n",
       "    }\n",
       "\n",
       "    .dataframe thead th {\n",
       "        text-align: right;\n",
       "    }\n",
       "</style>\n",
       "<table border=\"1\" class=\"dataframe\">\n",
       "  <thead>\n",
       "    <tr style=\"text-align: right;\">\n",
       "      <th></th>\n",
       "      <th>Cache L1</th>\n",
       "      <th>Cache L2</th>\n",
       "      <th>Frame-Memory</th>\n",
       "    </tr>\n",
       "  </thead>\n",
       "  <tbody>\n",
       "    <tr>\n",
       "      <th>Dimension [Bytes]:</th>\n",
       "      <td>1024</td>\n",
       "      <td>16 x 1024 (16384)</td>\n",
       "      <td>128 x 1024</td>\n",
       "    </tr>\n",
       "    <tr>\n",
       "      <th>Block size [Bytes]:</th>\n",
       "      <td>16</td>\n",
       "      <td>128</td>\n",
       "      <td>-</td>\n",
       "    </tr>\n",
       "    <tr>\n",
       "      <th>Associativity:</th>\n",
       "      <td>4</td>\n",
       "      <td>1</td>\n",
       "      <td>-</td>\n",
       "    </tr>\n",
       "    <tr>\n",
       "      <th>Write-policy:</th>\n",
       "      <td>write-through / write-not-allocate</td>\n",
       "      <td>write-back / write-allocate</td>\n",
       "      <td>-</td>\n",
       "    </tr>\n",
       "    <tr>\n",
       "      <th>Local Miss-Rate [%]:</th>\n",
       "      <td>0.16</td>\n",
       "      <td>5.98</td>\n",
       "      <td>-</td>\n",
       "    </tr>\n",
       "    <tr>\n",
       "      <th>Price [€]:</th>\n",
       "      <td>0.009766</td>\n",
       "      <td>0.00625</td>\n",
       "      <td>0.00125</td>\n",
       "    </tr>\n",
       "  </tbody>\n",
       "</table>\n",
       "</div>"
      ],
      "text/plain": [
       "                                                Cache L1  \\\n",
       "Dimension [Bytes]:                                  1024   \n",
       "Block size [Bytes]:                                   16   \n",
       "Associativity:                                         4   \n",
       "Write-policy:         write-through / write-not-allocate   \n",
       "Local Miss-Rate [%]:                                0.16   \n",
       "Price [€]:                                      0.009766   \n",
       "\n",
       "                                         Cache L2 Frame-Memory  \n",
       "Dimension [Bytes]:              16 x 1024 (16384)   128 x 1024  \n",
       "Block size [Bytes]:                           128            -  \n",
       "Associativity:                                  1            -  \n",
       "Write-policy:         write-back / write-allocate            -  \n",
       "Local Miss-Rate [%]:                         5.98            -  \n",
       "Price [€]:                                0.00625      0.00125  "
      ]
     },
     "metadata": {},
     "output_type": "display_data"
    },
    {
     "data": {
      "text/html": [
       "<div>\n",
       "<style scoped>\n",
       "    .dataframe tbody tr th:only-of-type {\n",
       "        vertical-align: middle;\n",
       "    }\n",
       "\n",
       "    .dataframe tbody tr th {\n",
       "        vertical-align: top;\n",
       "    }\n",
       "\n",
       "    .dataframe thead th {\n",
       "        text-align: right;\n",
       "    }\n",
       "</style>\n",
       "<table border=\"1\" class=\"dataframe\">\n",
       "  <thead>\n",
       "    <tr style=\"text-align: right;\">\n",
       "      <th></th>\n",
       "      <th></th>\n",
       "    </tr>\n",
       "  </thead>\n",
       "  <tbody>\n",
       "    <tr>\n",
       "      <th>Global Miss-Rate [%]:</th>\n",
       "      <td>0.956800</td>\n",
       "    </tr>\n",
       "    <tr>\n",
       "      <th>Global Access time [ns]:</th>\n",
       "      <td>2.825000</td>\n",
       "    </tr>\n",
       "    <tr>\n",
       "      <th>Total Price [€]:</th>\n",
       "      <td>0.017266</td>\n",
       "    </tr>\n",
       "    <tr>\n",
       "      <th>COST FUNCTION [ns x €]:</th>\n",
       "      <td>0.048780</td>\n",
       "    </tr>\n",
       "  </tbody>\n",
       "</table>\n",
       "</div>"
      ],
      "text/plain": [
       "                                  \n",
       "Global Miss-Rate [%]:     0.956800\n",
       "Global Access time [ns]:  2.825000\n",
       "Total Price [€]:          0.017266\n",
       "COST FUNCTION [ns x €]:   0.048780"
      ]
     },
     "metadata": {},
     "output_type": "display_data"
    }
   ],
   "source": [
    "import pandas as pd\n",
    "\n",
    "cache_config = {\"Cache L1\": [1024, 16, 4, \"write-through / write-not-allocate\", 0.16, 0.0097656],\n",
    "                \"Cache L2\": [\"16 x 1024 (16384)\", 128, 1, \"write-back / write-allocate\", 5.98, 0.00625],\n",
    "                \"Frame-Memory\": [\"128 x 1024\", \"-\", \"-\", \"-\", \"-\", 0.00125]}\n",
    "\n",
    "cache_config_global = {\"\": [0.9568, 2.825, 0.0172656, 0.04878]}\n",
    "\n",
    "df_1 = pd.DataFrame(cache_config, index = [\"Dimension [Bytes]:\", \"Block size [Bytes]:\", \"Associativity:\", \"Write-policy:\",\n",
    "                                           \"Local Miss-Rate [%]:\", \"Price [€]:\"])\n",
    "\n",
    "df_2 = pd.DataFrame(cache_config_global, index = [\"Global Miss-Rate [%]:\", \"Global Access time [ns]:\", \"Total Price [€]:\",\n",
    "                                                  \"COST FUNCTION [ns x €]:\"])\n",
    "\n",
    "display(df_1)\n",
    "display(df_2)"
   ]
  }
 ],
 "metadata": {
  "kernelspec": {
   "display_name": "Python 3.8.10 64-bit",
   "language": "python",
   "name": "python3"
  },
  "language_info": {
   "codemirror_mode": {
    "name": "ipython",
    "version": 3
   },
   "file_extension": ".py",
   "mimetype": "text/x-python",
   "name": "python",
   "nbconvert_exporter": "python",
   "pygments_lexer": "ipython3",
   "version": "3.8.10"
  },
  "orig_nbformat": 4,
  "vscode": {
   "interpreter": {
    "hash": "916dbcbb3f70747c44a77c7bcd40155683ae19c65e1c03b4aa3499c5328201f1"
   }
  }
 },
 "nbformat": 4,
 "nbformat_minor": 2
}
