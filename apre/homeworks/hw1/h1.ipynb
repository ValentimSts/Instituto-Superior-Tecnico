{
 "cells": [
  {
   "cell_type": "markdown",
   "metadata": {},
   "source": [
    "## Aprendizagem\n",
    "### Homework 1 - Decision Trees and Evaluation\n",
    "\n",
    "---"
   ]
  },
  {
   "cell_type": "markdown",
   "metadata": {},
   "source": [
    "#### I. Pen-and-paper"
   ]
  },
  {
   "cell_type": "markdown",
   "metadata": {},
   "source": [
    "1. [4v] Draw the training confusion matrix.\n",
    "\n",
    "---"
   ]
  },
  {
   "cell_type": "code",
   "execution_count": 1,
   "metadata": {},
   "outputs": [
    {
     "data": {
      "text/html": [
       "<div>\n",
       "<style scoped>\n",
       "    .dataframe tbody tr th:only-of-type {\n",
       "        vertical-align: middle;\n",
       "    }\n",
       "\n",
       "    .dataframe tbody tr th {\n",
       "        vertical-align: top;\n",
       "    }\n",
       "\n",
       "    .dataframe thead th {\n",
       "        text-align: right;\n",
       "    }\n",
       "</style>\n",
       "<table border=\"1\" class=\"dataframe\">\n",
       "  <thead>\n",
       "    <tr style=\"text-align: right;\">\n",
       "      <th></th>\n",
       "      <th>Predicted P</th>\n",
       "      <th>Predicted N</th>\n",
       "    </tr>\n",
       "  </thead>\n",
       "  <tbody>\n",
       "    <tr>\n",
       "      <th>Real P</th>\n",
       "      <td>8</td>\n",
       "      <td>3</td>\n",
       "    </tr>\n",
       "    <tr>\n",
       "      <th>Real N</th>\n",
       "      <td>4</td>\n",
       "      <td>5</td>\n",
       "    </tr>\n",
       "  </tbody>\n",
       "</table>\n",
       "</div>"
      ],
      "text/plain": [
       "        Predicted P  Predicted N\n",
       "Real P            8            3\n",
       "Real N            4            5"
      ]
     },
     "metadata": {},
     "output_type": "display_data"
    }
   ],
   "source": [
    "import pandas as pd, numpy as np\n",
    "from sklearn import metrics\n",
    "\n",
    "# y_true = [\"P\", \"P\", \"P\", \"P\", \"P\", \"P\", \"P\", \"P\", \"P\", \"P\", \"P\", \"P\", \"N\", \"N\", \"N\", \"N\", \"N\", \"N\", \"N\", \"N\"]\n",
    "# y_pred = [\"P\", \"P\", \"P\", \"P\", \"N\", \"N\", \"N\", \"N\", \"P\", \"P\", \"P\", \"P\", \"P\", \"P\", \"P\", \"N\", \"N\", \"N\", \"N\", \"N\"]\n",
    "\n",
    "cm = [[8, 3], [4, 5]]\n",
    "confusion = pd.DataFrame(cm, index=['Real P', 'Real N'], columns=['Predicted P', 'Predicted N'])\n",
    "display(confusion)"
   ]
  },
  {
   "cell_type": "markdown",
   "metadata": {},
   "source": [
    "2. [3v] Identify the training F1 after a post-pruning of the given tree under a maximum depth of 1."
   ]
  },
  {
   "cell_type": "code",
   "execution_count": null,
   "metadata": {},
   "outputs": [],
   "source": []
  },
  {
   "cell_type": "markdown",
   "metadata": {},
   "source": [
    "3. [2v] Identify two different reasons as to why the left tree path was not further decomposed.\n",
    "\n",
    "---"
   ]
  },
  {
   "cell_type": "markdown",
   "metadata": {},
   "source": [
    "O caminho esquerdo da árvore não foi mais desenvolvido devido a duas principais razões:\n",
    " - para evitar overfitting, pois sendo o data split não estatisticamente significante, ao pararmos a expansão do nó, evitamos a produção de filhos que se baseiem em samples muito pequenos;\n",
    " - pois a expansão do nó não respeitaria o valor mínimo de diminuição do seu nível de impureza. \n"
   ]
  },
  {
   "cell_type": "markdown",
   "metadata": {},
   "source": [
    "4. [3v] Compute the information gain of variable y1.\n",
    "\n",
    "---"
   ]
  },
  {
   "cell_type": "code",
   "execution_count": null,
   "metadata": {},
   "outputs": [],
   "source": []
  },
  {
   "cell_type": "markdown",
   "metadata": {},
   "source": [
    "#### II. Programming"
   ]
  },
  {
   "cell_type": "markdown",
   "metadata": {},
   "source": [
    "1. [6v] Using sklearn, apply a stratified 70-30 training-testing split with a fixed seed (random_state=1), and assess in a single plot the training and testing accuracies of a decision tree with no depth limits (and remaining default behavior) for a varying number of selected features in {5,10,40,100,250,700}. Feature selection should be performed before decision tree learning considering the discriminative power of the input variables according to mutual information criterion (mutual_info_classif).\n",
    "\n",
    "---"
   ]
  },
  {
   "cell_type": "code",
   "execution_count": 2,
   "metadata": {},
   "outputs": [],
   "source": [
    "# Import wall\n",
    "import pandas as pd\n",
    "import numpy as np\n",
    "from sklearn import metrics, datasets, tree\n",
    "from scipy.io.arff import loadarff\n",
    "from sklearn.model_selection import train_test_split\n",
    "from sklearn.feature_selection import mutual_info_classif, SelectKBest\n",
    "import matplotlib.pyplot as plt"
   ]
  },
  {
   "cell_type": "code",
   "execution_count": 3,
   "metadata": {},
   "outputs": [
    {
     "name": "stdout",
     "output_type": "stream",
     "text": [
      "[1.0, 1.0, 1.0, 1.0, 1.0, 1.0]\n",
      "[0.75, 0.75, 0.84, 0.81, 0.82, 0.79]\n"
     ]
    }
   ],
   "source": [
    "\n",
    "# Reads the 'pd_speech.arff' file and creates the disered dataframe.\n",
    "data = loadarff('pd_speech.arff')\n",
    "df = pd.DataFrame(data[0])\n",
    "\n",
    "# Discretization of the output variable 'class' (B1 -> 1).\n",
    "df['class'] = df['class'].str.decode('utf-8')\n",
    "\n",
    "# Defines the X and Y data sets:\n",
    "# - X: all the input values;\n",
    "# - Y: the output values (variable 'class').\n",
    "x = df.drop(\"class\", axis=1)\n",
    "y = np.ravel(df['class'])\n",
    "\n",
    "num_features = [5, 10, 40, 100, 250, 700]\n",
    "acc_train = []\n",
    "acc_test = []\n",
    "\n",
    "\n",
    "for n in num_features:\n",
    "    \n",
    "    # Feature selection:\n",
    "    #  - selects the k best variables based on the \n",
    "    #    mutual info classifier (information gain).\n",
    "    selector = SelectKBest(mutual_info_classif, k=n)\n",
    "\n",
    "    # Gets the sub-set to be used on this iteration, \n",
    "    # based on the selector created above.\n",
    "    x_reduced = selector.fit_transform(x, y)\n",
    "\n",
    "    # 70-30 training-testing split.\n",
    "    x_train, x_test, y_train, y_test = train_test_split(x_reduced, y, test_size = 0.3, random_state=1)\n",
    "\n",
    "    # Trains the decision tree on the training sets.\n",
    "    decision_tree = tree.DecisionTreeClassifier()\n",
    "    predictor = decision_tree.fit(x_train, y_train)\n",
    "\n",
    "    # Gets the predicted values for both the train \n",
    "    # and test samples.\n",
    "    y_train_pred = predictor.predict(x_train)\n",
    "    y_test_pred = predictor.predict(x_test)\n",
    "\n",
    "    # Test model performance:\n",
    "    # - calculates the accuracy of both samples,\n",
    "    #   train and test.\n",
    "    acc_train += [round(metrics.accuracy_score(y_train, y_train_pred), 2)]\n",
    "    acc_test += [round(metrics.accuracy_score(y_test, y_test_pred), 2)]\n",
    "\n",
    "print(acc_train)\n",
    "print(acc_test)\n"
   ]
  },
  {
   "cell_type": "code",
   "execution_count": 6,
   "metadata": {},
   "outputs": [
    {
     "data": {
      "image/png": "[encoded data removed]",
      "text/plain": [
       "<Figure size 640x480 with 1 Axes>"
      ]
     },
     "metadata": {},
     "output_type": "display_data"
    }
   ],
   "source": [
    "# Ploting the trainig-testing accuracies.\n",
    "plt.plot(num_features, acc_train, marker = '.', label = \"training\")\n",
    "plt.plot(num_features, acc_test, marker = '.', label = \"testing\")\n",
    "plt.title(\"training-testing split accuracies.\")\n",
    "plt.ylabel(\"accuracy [0, 1]\")\n",
    "plt.xlabel(\"number of features\")\n",
    "plt.show()"
   ]
  },
  {
   "cell_type": "markdown",
   "metadata": {},
   "source": [
    "2) [2v] Why training accuracy is persistently 1? Critically analyze the gathered results.\n",
    "\n",
    "---"
   ]
  },
  {
   "cell_type": "markdown",
   "metadata": {},
   "source": [
    "Pela sua definição, accuracy corresponde ao número de previsões corretas a dividir pelo número total de previsões. \\\n",
    "No caso concreto da accuracy de treino, todas as previsões serão corretas (dando sempre accuracy = 1), uma vez que são utilizadas tanto para treinar como para testar o próprio modelo usado no training set (70%). \\\n",
    "Da análise dos resultados obtidos, podemos concluir que os modelos criados se adequam ao nosso dataset, com uma accuracy média de 80% (com um training-testing split 70-30)."
   ]
  }
 ],
 "metadata": {
  "kernelspec": {
   "display_name": "Python 3.8.10 64-bit",
   "language": "python",
   "name": "python3"
  },
  "language_info": {
   "codemirror_mode": {
    "name": "ipython",
    "version": 3
   },
   "file_extension": ".py",
   "mimetype": "text/x-python",
   "name": "python",
   "nbconvert_exporter": "python",
   "pygments_lexer": "ipython3",
   "version": "3.8.10"
  },
  "orig_nbformat": 4,
  "vscode": {
   "interpreter": {
    "hash": "916dbcbb3f70747c44a77c7bcd40155683ae19c65e1c03b4aa3499c5328201f1"
   }
  }
 },
 "nbformat": 4,
 "nbformat_minor": 2
}
